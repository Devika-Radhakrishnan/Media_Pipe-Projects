{
 "cells": [
  {
   "cell_type": "code",
   "execution_count": 1,
   "metadata": {},
   "outputs": [
    {
     "name": "stdout",
     "output_type": "stream",
     "text": [
      "WARNING:tensorflow:From c:\\Users\\devik\\AppData\\Local\\Programs\\Python\\Python311\\Lib\\site-packages\\keras\\src\\losses.py:2976: The name tf.losses.sparse_softmax_cross_entropy is deprecated. Please use tf.compat.v1.losses.sparse_softmax_cross_entropy instead.\n",
      "\n"
     ]
    }
   ],
   "source": [
    "import mediapipe as mp\n",
    "import cv2"
   ]
  },
  {
   "cell_type": "code",
   "execution_count": null,
   "metadata": {},
   "outputs": [],
   "source": [
    "mphands=mp.solutions.hands #hands class\n",
    "mp_drawing=mp.solutions.drawing_utils"
   ]
  },
  {
   "cell_type": "code",
   "execution_count": null,
   "metadata": {},
   "outputs": [],
   "source": [
    "Hand=mphands.Hands()\n"
   ]
  },
  {
   "cell_type": "code",
   "execution_count": null,
   "metadata": {},
   "outputs": [],
   "source": [
    "video=cv2.VideoCapture(0)\n",
    "while True:\n",
    "  suc,image=video.read()\n",
    "  image=cv2.cvtColor(image,cv2.COLOR_BGR2RGB)\n",
    "  results=Hand.process(image)\n",
    "  image=cv2.cvtColor(image,cv2.COLOR_RGB2BGR)\n",
    "  # print(results)\n",
    "  # print(results.multi_hand_landmarks) #x,y,z values\n",
    "  if results.multi_hand_landmarks: #cases other than none\n",
    "    for hand_landmarks in results.multi_hand_landmarks: #for each x and y values\n",
    "       mp_drawing.draw_landmarks(image,hand_landmarks,mphands.HAND_CONNECTIONS) #draw image, for points\n",
    "       \n",
    "\n",
    "\n",
    "\n",
    "\n",
    "\n",
    "  cv2.imshow('HAND',image)\n",
    "  if cv2.waitKey(1)& 0XFF==ord('q'):\n",
    "    break\n",
    "video.release()\n",
    "cv2.destroyAllWindows()"
   ]
  },
  {
   "cell_type": "code",
   "execution_count": null,
   "metadata": {},
   "outputs": [],
   "source": []
  }
 ],
 "metadata": {
  "kernelspec": {
   "display_name": "Python 3",
   "language": "python",
   "name": "python3"
  },
  "language_info": {
   "codemirror_mode": {
    "name": "ipython",
    "version": 3
   },
   "file_extension": ".py",
   "mimetype": "text/x-python",
   "name": "python",
   "nbconvert_exporter": "python",
   "pygments_lexer": "ipython3",
   "version": "3.11.3"
  }
 },
 "nbformat": 4,
 "nbformat_minor": 2
}
